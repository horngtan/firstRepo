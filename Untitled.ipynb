{
 "cells": [
  {
   "cell_type": "markdown",
   "id": "0f46f5ca-a4e6-4db4-a1ca-31ece47733c7",
   "metadata": {},
   "source": [
    "#Walkthry sample note book "
   ]
  },
  {
   "cell_type": "markdown",
   "id": "51d10b08-e62d-4a9f-a00e-3c9edecfd13b",
   "metadata": {},
   "source": [
    "Here is how i calculate '1+1'"
   ]
  },
  {
   "cell_type": "code",
   "execution_count": 1,
   "id": "ad574a36-f5f4-4d38-a923-c3e2fc93d082",
   "metadata": {},
   "outputs": [
    {
     "data": {
      "text/plain": [
       "2"
      ]
     },
     "execution_count": 1,
     "metadata": {},
     "output_type": "execute_result"
    }
   ],
   "source": [
    "1+1"
   ]
  }
 ],
 "metadata": {
  "kernelspec": {
   "display_name": "Python 3 (ipykernel)",
   "language": "python",
   "name": "python3"
  },
  "language_info": {
   "codemirror_mode": {
    "name": "ipython",
    "version": 3
   },
   "file_extension": ".py",
   "mimetype": "text/x-python",
   "name": "python",
   "nbconvert_exporter": "python",
   "pygments_lexer": "ipython3",
   "version": "3.10.12"
  }
 },
 "nbformat": 4,
 "nbformat_minor": 5
}
